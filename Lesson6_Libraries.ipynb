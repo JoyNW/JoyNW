{
  "nbformat": 4,
  "nbformat_minor": 0,
  "metadata": {
    "colab": {
      "provenance": [],
      "include_colab_link": true
    },
    "kernelspec": {
      "name": "python3",
      "display_name": "Python 3"
    },
    "language_info": {
      "name": "python"
    }
  },
  "cells": [
    {
      "cell_type": "markdown",
      "metadata": {
        "id": "view-in-github",
        "colab_type": "text"
      },
      "source": [
        "<a href=\"https://colab.research.google.com/github/JoyNW/JoyNW/blob/main/Lesson6_Libraries.ipynb\" target=\"_parent\"><img src=\"https://colab.research.google.com/assets/colab-badge.svg\" alt=\"Open In Colab\"/></a>"
      ]
    },
    {
      "cell_type": "code",
      "execution_count": null,
      "metadata": {
        "colab": {
          "base_uri": "https://localhost:8080/"
        },
        "id": "0a0ZS-_WOPbR",
        "outputId": "db968df4-530d-440f-f800-b75c2e151a37"
      },
      "outputs": [
        {
          "output_type": "stream",
          "name": "stdout",
          "text": [
            "Collecting datetime\n",
            "  Downloading DateTime-5.5-py3-none-any.whl.metadata (33 kB)\n",
            "Collecting zope.interface (from datetime)\n",
            "  Downloading zope.interface-7.2-cp311-cp311-manylinux_2_5_x86_64.manylinux1_x86_64.manylinux_2_17_x86_64.manylinux2014_x86_64.whl.metadata (44 kB)\n",
            "\u001b[2K     \u001b[90m━━━━━━━━━━━━━━━━━━━━━━━━━━━━━━━━━━━━━━━━\u001b[0m \u001b[32m44.4/44.4 kB\u001b[0m \u001b[31m2.4 MB/s\u001b[0m eta \u001b[36m0:00:00\u001b[0m\n",
            "\u001b[?25hRequirement already satisfied: pytz in /usr/local/lib/python3.11/dist-packages (from datetime) (2025.2)\n",
            "Requirement already satisfied: setuptools in /usr/local/lib/python3.11/dist-packages (from zope.interface->datetime) (75.2.0)\n",
            "Downloading DateTime-5.5-py3-none-any.whl (52 kB)\n",
            "\u001b[2K   \u001b[90m━━━━━━━━━━━━━━━━━━━━━━━━━━━━━━━━━━━━━━━━\u001b[0m \u001b[32m52.6/52.6 kB\u001b[0m \u001b[31m2.5 MB/s\u001b[0m eta \u001b[36m0:00:00\u001b[0m\n",
            "\u001b[?25hDownloading zope.interface-7.2-cp311-cp311-manylinux_2_5_x86_64.manylinux1_x86_64.manylinux_2_17_x86_64.manylinux2014_x86_64.whl (259 kB)\n",
            "\u001b[2K   \u001b[90m━━━━━━━━━━━━━━━━━━━━━━━━━━━━━━━━━━━━━━━━\u001b[0m \u001b[32m259.8/259.8 kB\u001b[0m \u001b[31m11.9 MB/s\u001b[0m eta \u001b[36m0:00:00\u001b[0m\n",
            "\u001b[?25hInstalling collected packages: zope.interface, datetime\n",
            "Successfully installed datetime-5.5 zope.interface-7.2\n"
          ]
        }
      ],
      "source": [
        "!pip install datetime"
      ]
    },
    {
      "cell_type": "code",
      "source": [
        "# How to use the libraries\n",
        "\n",
        "# 1. Install the library -> do it only once\n",
        "# 2. Import the library -> tell the Python we wanna use someone's else work\n",
        "# 3. Use it!\n",
        "\n",
        "\n",
        "# Import library\n",
        "\n",
        "\n",
        "import math\n",
        "\n",
        "print(type(random))\n",
        "\n",
        "print(random.randint(1,10))"
      ],
      "metadata": {
        "colab": {
          "base_uri": "https://localhost:8080/"
        },
        "id": "KzmY-3OlPeSg",
        "outputId": "8f7a0a66-4fc0-4e13-a2b4-bcdc761eb28e"
      },
      "execution_count": null,
      "outputs": [
        {
          "output_type": "stream",
          "name": "stdout",
          "text": [
            "<class 'module'>\n",
            "3\n"
          ]
        }
      ]
    },
    {
      "cell_type": "code",
      "source": [
        "import random\n",
        "\n",
        "### Write a function which asks the user how many random numbers the user wants and then prints them\n",
        "input_user = int(input(\"How many random numbers do you wanna print?\"))\n",
        "for number in range(input_user):\n",
        "    print(random.randint(1,10))"
      ],
      "metadata": {
        "colab": {
          "base_uri": "https://localhost:8080/"
        },
        "id": "vXglI-BdRzNx",
        "outputId": "effcc36c-4258-4fee-f492-473b1aa694ce"
      },
      "execution_count": null,
      "outputs": [
        {
          "output_type": "stream",
          "name": "stdout",
          "text": [
            "How many random numbers do you wanna print?5\n",
            "7\n",
            "2\n",
            "2\n",
            "9\n",
            "3\n"
          ]
        }
      ]
    },
    {
      "cell_type": "code",
      "source": [
        "# import datetime\n",
        "\n",
        "# print(datetime.datetime.now())\n",
        "\n",
        "# datetime_now = datetime.datetime.now(tz = datetime.timezone.utcoffset('2'))\n",
        "# # just time\n",
        "# print(datetime_now.time())\n",
        "# # just date\n",
        "# print(datetime_now.date())"
      ],
      "metadata": {
        "colab": {
          "base_uri": "https://localhost:8080/",
          "height": 297
        },
        "id": "4Z363-p8Sxf3",
        "outputId": "f3f776e0-db06-4388-8ceb-f857f28654b9"
      },
      "execution_count": null,
      "outputs": [
        {
          "output_type": "stream",
          "name": "stdout",
          "text": [
            "2025-04-12 09:34:43.163440\n"
          ]
        },
        {
          "output_type": "error",
          "ename": "TypeError",
          "evalue": "descriptor 'utcoffset' for 'datetime.timezone' objects doesn't apply to a 'str' object",
          "traceback": [
            "\u001b[0;31m---------------------------------------------------------------------------\u001b[0m",
            "\u001b[0;31mTypeError\u001b[0m                                 Traceback (most recent call last)",
            "\u001b[0;32m<ipython-input-14-a8c8b0e124ab>\u001b[0m in \u001b[0;36m<cell line: 0>\u001b[0;34m()\u001b[0m\n\u001b[1;32m      3\u001b[0m \u001b[0mprint\u001b[0m\u001b[0;34m(\u001b[0m\u001b[0mdatetime\u001b[0m\u001b[0;34m.\u001b[0m\u001b[0mdatetime\u001b[0m\u001b[0;34m.\u001b[0m\u001b[0mnow\u001b[0m\u001b[0;34m(\u001b[0m\u001b[0;34m)\u001b[0m\u001b[0;34m)\u001b[0m\u001b[0;34m\u001b[0m\u001b[0;34m\u001b[0m\u001b[0m\n\u001b[1;32m      4\u001b[0m \u001b[0;34m\u001b[0m\u001b[0m\n\u001b[0;32m----> 5\u001b[0;31m \u001b[0mdatetime_now\u001b[0m \u001b[0;34m=\u001b[0m \u001b[0mdatetime\u001b[0m\u001b[0;34m.\u001b[0m\u001b[0mdatetime\u001b[0m\u001b[0;34m.\u001b[0m\u001b[0mnow\u001b[0m\u001b[0;34m(\u001b[0m\u001b[0mtz\u001b[0m \u001b[0;34m=\u001b[0m \u001b[0mdatetime\u001b[0m\u001b[0;34m.\u001b[0m\u001b[0mtimezone\u001b[0m\u001b[0;34m.\u001b[0m\u001b[0mutcoffset\u001b[0m\u001b[0;34m(\u001b[0m\u001b[0;34m'2'\u001b[0m\u001b[0;34m)\u001b[0m\u001b[0;34m)\u001b[0m\u001b[0;34m\u001b[0m\u001b[0;34m\u001b[0m\u001b[0m\n\u001b[0m\u001b[1;32m      6\u001b[0m \u001b[0;31m# just time\u001b[0m\u001b[0;34m\u001b[0m\u001b[0;34m\u001b[0m\u001b[0m\n\u001b[1;32m      7\u001b[0m \u001b[0mprint\u001b[0m\u001b[0;34m(\u001b[0m\u001b[0mdatetime_now\u001b[0m\u001b[0;34m.\u001b[0m\u001b[0mtime\u001b[0m\u001b[0;34m(\u001b[0m\u001b[0;34m)\u001b[0m\u001b[0;34m)\u001b[0m\u001b[0;34m\u001b[0m\u001b[0;34m\u001b[0m\u001b[0m\n",
            "\u001b[0;31mTypeError\u001b[0m: descriptor 'utcoffset' for 'datetime.timezone' objects doesn't apply to a 'str' object"
          ]
        }
      ]
    },
    {
      "cell_type": "code",
      "source": [
        "# import all the functions from the library\n",
        "import datetime\n",
        "\n",
        "# more specific import\n",
        "from datetime import date\n",
        "from datetime import time\n",
        "\n",
        "# first way\n",
        "datetime.datetime.now()\n",
        "# second way, more specific\n",
        "time.now()"
      ],
      "metadata": {
        "id": "lnt0taJ-VQnV"
      },
      "execution_count": null,
      "outputs": []
    },
    {
      "cell_type": "code",
      "source": [
        "# 1. Import the random module\n",
        "# 2. Get a random number between 0 and 1 (random.random()) and store it in a variable\n",
        "# 3. If the number is larger than 0.5, your program should output “big”.\n",
        "# 4. Otherwise, it should output “tiny”.\n",
        "# 5. Let the program run multiple times and see if something changes\n",
        "\n",
        "\n",
        "import random\n",
        "random_number = random.random()\n",
        "#print(random_number)\n",
        "if random_number > 0.5:\n",
        "    print(\"big\")\n",
        "else:\n",
        "    print(\"tiny\")"
      ],
      "metadata": {
        "colab": {
          "base_uri": "https://localhost:8080/"
        },
        "id": "6oJJ7kpWaQLo",
        "outputId": "65ee93dc-4ec2-4979-9662-49be259aaef7"
      },
      "execution_count": null,
      "outputs": [
        {
          "output_type": "stream",
          "name": "stdout",
          "text": [
            "0.2933828198315126\n"
          ]
        }
      ]
    },
    {
      "cell_type": "code",
      "source": [],
      "metadata": {
        "colab": {
          "base_uri": "https://localhost:8080/"
        },
        "id": "v6kJcNIYc1yK",
        "outputId": "81cd757c-706c-420a-8a4a-765074c0a842"
      },
      "execution_count": null,
      "outputs": [
        {
          "output_type": "stream",
          "name": "stdout",
          "text": [
            "Requirement already satisfied: requests in /usr/local/lib/python3.11/dist-packages (2.32.3)\n",
            "Requirement already satisfied: charset-normalizer<4,>=2 in /usr/local/lib/python3.11/dist-packages (from requests) (3.4.1)\n",
            "Requirement already satisfied: idna<4,>=2.5 in /usr/local/lib/python3.11/dist-packages (from requests) (3.10)\n",
            "Requirement already satisfied: urllib3<3,>=1.21.1 in /usr/local/lib/python3.11/dist-packages (from requests) (2.3.0)\n",
            "Requirement already satisfied: certifi>=2017.4.17 in /usr/local/lib/python3.11/dist-packages (from requests) (2025.1.31)\n"
          ]
        }
      ]
    },
    {
      "cell_type": "code",
      "source": [
        "# Exercise 1:\n",
        "# Making an API call: Use the requests library to make a call to the following API:\n",
        "# https://geocoding-api.open-meteo.com/v1/search?name=munich&count=1&language=en&format=json\n",
        "# An API call is like a url. You can open it in your browser and see the result.\n",
        "\n",
        "# 1. Install the requests library using pip install requests\n",
        "# 2. Import the requests library\n",
        "# 3. Define a variable url with the url above as a string\n",
        "# 4. Make the call using response = requests.get(url)\n",
        "# 5. Convert the result to json using response.json()\n",
        "# 6. Print the result\n",
        "# 7. What kind of data structure is the result? What does it contain?\n",
        "# 8. How can you access the latitude, longitude and elevation of the city? Print it\n"
      ],
      "metadata": {
        "id": "7GqCZO4WnS8s"
      },
      "execution_count": null,
      "outputs": []
    },
    {
      "cell_type": "code",
      "source": [
        "#pip install requests\n",
        "import requests\n",
        "\n",
        "api_url = \"https://geocoding-api.open-meteo.com/v1/search?name=munich&count=1&language=en&format=json\"\n",
        "\n",
        "# The response from the API\n",
        "api_response = requests.get(url = api_url)\n",
        "\n",
        "# Converts the response from the API to the dictionary\n",
        "api_response_json = api_response.json()\n",
        "\n",
        "# Parse the response to get the required information\n",
        "print(f'The response from the API: {api_response_json}')\n",
        "\n",
        "all_results = api_response_json[\"results\"]\n",
        "print(f'All the results: {all_results}')\n",
        "\n",
        "city_result = all_results[0]\n",
        "print(f'The first result: {city_result}')\n",
        "\n",
        "city_population = city_result[\"population\"]\n",
        "print(f'The population of Munich: {city_population}')\n",
        "\n",
        "print(f'The latitude in Munich: {city_result[\"latitude\"]}')\n",
        "print(f'The longitude in Munich: {city_result[\"longitude\"]}')\n",
        "print(f'The elevation in Munich: {city_result[\"elevation\"]}')"
      ],
      "metadata": {
        "colab": {
          "base_uri": "https://localhost:8080/"
        },
        "id": "QBJoaMO7nS53",
        "outputId": "7b417abe-a3d8-42c4-c686-428a043e4f32"
      },
      "execution_count": null,
      "outputs": [
        {
          "output_type": "stream",
          "name": "stdout",
          "text": [
            "The response from the API: {'results': [{'id': 2867714, 'name': 'Munich', 'latitude': 48.13743, 'longitude': 11.57549, 'elevation': 524.0, 'feature_code': 'PPLA', 'country_code': 'DE', 'admin1_id': 2951839, 'admin2_id': 2861322, 'admin3_id': 3220837, 'admin4_id': 6559171, 'timezone': 'Europe/Berlin', 'population': 1260391, 'postcodes': ['80331'], 'country_id': 2921044, 'country': 'Germany', 'admin1': 'Bavaria', 'admin2': 'Upper Bavaria', 'admin3': 'Munich, Urban District', 'admin4': 'Munich'}], 'generationtime_ms': 0.6939173}\n",
            "All the results: [{'id': 2867714, 'name': 'Munich', 'latitude': 48.13743, 'longitude': 11.57549, 'elevation': 524.0, 'feature_code': 'PPLA', 'country_code': 'DE', 'admin1_id': 2951839, 'admin2_id': 2861322, 'admin3_id': 3220837, 'admin4_id': 6559171, 'timezone': 'Europe/Berlin', 'population': 1260391, 'postcodes': ['80331'], 'country_id': 2921044, 'country': 'Germany', 'admin1': 'Bavaria', 'admin2': 'Upper Bavaria', 'admin3': 'Munich, Urban District', 'admin4': 'Munich'}]\n",
            "The first result: {'id': 2867714, 'name': 'Munich', 'latitude': 48.13743, 'longitude': 11.57549, 'elevation': 524.0, 'feature_code': 'PPLA', 'country_code': 'DE', 'admin1_id': 2951839, 'admin2_id': 2861322, 'admin3_id': 3220837, 'admin4_id': 6559171, 'timezone': 'Europe/Berlin', 'population': 1260391, 'postcodes': ['80331'], 'country_id': 2921044, 'country': 'Germany', 'admin1': 'Bavaria', 'admin2': 'Upper Bavaria', 'admin3': 'Munich, Urban District', 'admin4': 'Munich'}\n",
            "The population of Munich: 1260391\n",
            "The latitude in Munich: 48.13743\n",
            "The longitude in Munich: 11.57549\n",
            "The elevation in Munich: 524.0\n"
          ]
        }
      ]
    },
    {
      "cell_type": "code",
      "source": [
        "import requests\n",
        "\n",
        "city_name = input('Enter the name of the city:')\n",
        "\n",
        "api_url = f'https://geocoding-api.open-meteo.com/v1/search?name={city_name}&count=1&language=en&format=json'\n",
        "\n",
        "# The response from the API\n",
        "api_response = requests.get(url = api_url)\n",
        "\n",
        "# Converts the response from the API to the dictionary\n",
        "api_response_json = api_response.json()\n",
        "\n",
        "print(f'Result for the {city_name} is: ')\n",
        "print(api_response_json)\n",
        "\n"
      ],
      "metadata": {
        "colab": {
          "base_uri": "https://localhost:8080/",
          "height": 356
        },
        "id": "eG8N1bQ3646E",
        "outputId": "57fbf210-76a7-4c08-89b9-deda7868cc45"
      },
      "execution_count": null,
      "outputs": [
        {
          "output_type": "error",
          "ename": "KeyboardInterrupt",
          "evalue": "Interrupted by user",
          "traceback": [
            "\u001b[0;31m---------------------------------------------------------------------------\u001b[0m",
            "\u001b[0;31mKeyboardInterrupt\u001b[0m                         Traceback (most recent call last)",
            "\u001b[0;32m<ipython-input-2-e9f4755d3f37>\u001b[0m in \u001b[0;36m<cell line: 0>\u001b[0;34m()\u001b[0m\n\u001b[1;32m      1\u001b[0m \u001b[0;32mimport\u001b[0m \u001b[0mrequests\u001b[0m\u001b[0;34m\u001b[0m\u001b[0;34m\u001b[0m\u001b[0m\n\u001b[1;32m      2\u001b[0m \u001b[0;34m\u001b[0m\u001b[0m\n\u001b[0;32m----> 3\u001b[0;31m \u001b[0mcity_name\u001b[0m \u001b[0;34m=\u001b[0m \u001b[0minput\u001b[0m\u001b[0;34m(\u001b[0m\u001b[0;34m'Enter the name of the city:'\u001b[0m\u001b[0;34m)\u001b[0m\u001b[0;34m\u001b[0m\u001b[0;34m\u001b[0m\u001b[0m\n\u001b[0m\u001b[1;32m      4\u001b[0m \u001b[0;34m\u001b[0m\u001b[0m\n\u001b[1;32m      5\u001b[0m \u001b[0mapi_url\u001b[0m \u001b[0;34m=\u001b[0m \u001b[0;34mf'https://geocoding-api.open-meteo.com/v1/search?name={city_name}&count=1&language=en&format=json'\u001b[0m\u001b[0;34m\u001b[0m\u001b[0;34m\u001b[0m\u001b[0m\n",
            "\u001b[0;32m/usr/local/lib/python3.11/dist-packages/ipykernel/kernelbase.py\u001b[0m in \u001b[0;36mraw_input\u001b[0;34m(self, prompt)\u001b[0m\n\u001b[1;32m   1175\u001b[0m                 \u001b[0;34m\"raw_input was called, but this frontend does not support input requests.\"\u001b[0m\u001b[0;34m\u001b[0m\u001b[0;34m\u001b[0m\u001b[0m\n\u001b[1;32m   1176\u001b[0m             )\n\u001b[0;32m-> 1177\u001b[0;31m         return self._input_request(\n\u001b[0m\u001b[1;32m   1178\u001b[0m             \u001b[0mstr\u001b[0m\u001b[0;34m(\u001b[0m\u001b[0mprompt\u001b[0m\u001b[0;34m)\u001b[0m\u001b[0;34m,\u001b[0m\u001b[0;34m\u001b[0m\u001b[0;34m\u001b[0m\u001b[0m\n\u001b[1;32m   1179\u001b[0m             \u001b[0mself\u001b[0m\u001b[0;34m.\u001b[0m\u001b[0m_parent_ident\u001b[0m\u001b[0;34m[\u001b[0m\u001b[0;34m\"shell\"\u001b[0m\u001b[0;34m]\u001b[0m\u001b[0;34m,\u001b[0m\u001b[0;34m\u001b[0m\u001b[0;34m\u001b[0m\u001b[0m\n",
            "\u001b[0;32m/usr/local/lib/python3.11/dist-packages/ipykernel/kernelbase.py\u001b[0m in \u001b[0;36m_input_request\u001b[0;34m(self, prompt, ident, parent, password)\u001b[0m\n\u001b[1;32m   1217\u001b[0m             \u001b[0;32mexcept\u001b[0m \u001b[0mKeyboardInterrupt\u001b[0m\u001b[0;34m:\u001b[0m\u001b[0;34m\u001b[0m\u001b[0;34m\u001b[0m\u001b[0m\n\u001b[1;32m   1218\u001b[0m                 \u001b[0;31m# re-raise KeyboardInterrupt, to truncate traceback\u001b[0m\u001b[0;34m\u001b[0m\u001b[0;34m\u001b[0m\u001b[0m\n\u001b[0;32m-> 1219\u001b[0;31m                 \u001b[0;32mraise\u001b[0m \u001b[0mKeyboardInterrupt\u001b[0m\u001b[0;34m(\u001b[0m\u001b[0;34m\"Interrupted by user\"\u001b[0m\u001b[0;34m)\u001b[0m \u001b[0;32mfrom\u001b[0m \u001b[0;32mNone\u001b[0m\u001b[0;34m\u001b[0m\u001b[0;34m\u001b[0m\u001b[0m\n\u001b[0m\u001b[1;32m   1220\u001b[0m             \u001b[0;32mexcept\u001b[0m \u001b[0mException\u001b[0m\u001b[0;34m:\u001b[0m\u001b[0;34m\u001b[0m\u001b[0;34m\u001b[0m\u001b[0m\n\u001b[1;32m   1221\u001b[0m                 \u001b[0mself\u001b[0m\u001b[0;34m.\u001b[0m\u001b[0mlog\u001b[0m\u001b[0;34m.\u001b[0m\u001b[0mwarning\u001b[0m\u001b[0;34m(\u001b[0m\u001b[0;34m\"Invalid Message:\"\u001b[0m\u001b[0;34m,\u001b[0m \u001b[0mexc_info\u001b[0m\u001b[0;34m=\u001b[0m\u001b[0;32mTrue\u001b[0m\u001b[0;34m)\u001b[0m\u001b[0;34m\u001b[0m\u001b[0;34m\u001b[0m\u001b[0m\n",
            "\u001b[0;31mKeyboardInterrupt\u001b[0m: Interrupted by user"
          ]
        }
      ]
    }
  ]
}